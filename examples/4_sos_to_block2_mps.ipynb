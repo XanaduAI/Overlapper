{
 "cells": [
  {
   "cell_type": "markdown",
   "metadata": {},
   "source": [
    "# Converting wavefunctions to matrix-product state (MPS) format"
   ]
  },
  {
   "cell_type": "markdown",
   "metadata": {},
   "source": [
    "While the SOS format, implemented in Overlapper with the sparse dictionary, is convenient for many use cases, sometimes the MPS format is indispensible. In particular, this conversion is frequently necessary to approximate energy distributions.\n",
    "\n",
    "Regardless of whether energy distributions are computed via the series expansion method or via the resolvent method, the MPS form is beneficial because it allows working with much larger systems. For the former, it enables the computation of moments; for the latter, it enables using Block2's `driver` and its methods to calculate the energy distribution."
   ]
  },
  {
   "cell_type": "markdown",
   "metadata": {},
   "source": [
    "The conversion itself is technically challenging, but from the user perspective can be essentially accomplished in a single line of code. We illustrate this here on the example of the CISD state."
   ]
  },
  {
   "cell_type": "markdown",
   "metadata": {},
   "source": [
    "#### Create a molecule"
   ]
  },
  {
   "cell_type": "markdown",
   "metadata": {},
   "source": [
    "Start as usual by creating a simple molecule and running a Hartree-Fock calculation"
   ]
  },
  {
   "cell_type": "code",
   "execution_count": 1,
   "metadata": {},
   "outputs": [],
   "source": [
    "%%capture\n",
    "from pyscf import gto\n",
    "\n",
    "from overlapper.state import do_hf\n",
    "\n",
    "R = 2.5\n",
    "N = 10\n",
    "TOL = 1e-3\n",
    "\n",
    "mol = gto.M(atom=[['H', (ii * R, 0, 0)] for ii in range(N)],\n",
    "            basis='sto6g', symmetry='c1')\n",
    "\n",
    "hf, hf_e, hf_ss, hf_sz = do_hf(mol, hftype=\"rhf\")"
   ]
  },
  {
   "cell_type": "markdown",
   "metadata": {},
   "source": [
    "#### Generate a state to be converted"
   ]
  },
  {
   "cell_type": "markdown",
   "metadata": {},
   "source": [
    "As in previous notebooks, we use Overlapper to generate an initial state in the SOS sparse dictionary format -- for the sake of example, we use the CISD method"
   ]
  },
  {
   "cell_type": "code",
   "execution_count": 2,
   "metadata": {
    "scrolled": false
   },
   "outputs": [
    {
     "name": "stdout",
     "output_type": "stream",
     "text": [
      "Printing the first twnety elements of the dictionary:\n",
      "(31, 31) : 0.7232248756254029\n",
      "(94, 31) : 0.003184997087988679\n",
      "(286, 31) : 0.009580662733417665\n",
      "(61, 31) : -0.004142701529728104\n",
      "(157, 31) : 0.017473369789748325\n",
      "(541, 31) : 0.009298484171502613\n",
      "(91, 31) : 0.023827449577377573\n",
      "(283, 31) : -0.016783926655129098\n",
      "(55, 31) : 0.023162604334417008\n",
      "(151, 31) : 0.022757855384418782\n",
      "(535, 31) : -0.0034845901635425294\n",
      "(79, 31) : -0.022034353242291773\n",
      "(271, 31) : -0.00440854024077261\n",
      "(31, 94) : 0.003184997087988679\n",
      "(31, 286) : 0.009580662733417665\n",
      "(31, 61) : -0.004142701529728104\n",
      "(31, 157) : 0.017473369789748325\n",
      "(31, 541) : 0.009298484171502613\n",
      "(31, 91) : 0.023827449577377573\n",
      "(31, 283) : -0.016783926655129098\n",
      "\n",
      "The length of the whole dictionary: 426\n"
     ]
    }
   ],
   "source": [
    "from overlapper.state import do_cisd, cisd_state\n",
    "mycisd, mycisd_e, mycisd_ss, mycisd_sz = do_cisd(hf)\n",
    "wf_cisd = cisd_state(mycisd, tol=TOL)\n",
    "\n",
    "print(\"Printing the first twnety elements of the dictionary:\")\n",
    "for n,key in enumerate(wf_cisd.keys()):\n",
    "    if n < 20:\n",
    "        print(key, \":\", wf_cisd[key])\n",
    "        \n",
    "print()        \n",
    "print(\"The length of the whole dictionary:\", len(wf_cisd))"
   ]
  },
  {
   "cell_type": "markdown",
   "metadata": {},
   "source": [
    "Notice that the wavefunction we are about to convert is large -- it has many contributing determinants."
   ]
  },
  {
   "cell_type": "markdown",
   "metadata": {},
   "source": [
    "#### Execute the conversion"
   ]
  },
  {
   "cell_type": "markdown",
   "metadata": {},
   "source": [
    "Pick the number of Slater determinants from the original state to be converted and trim the state to that size, then execute the conversion in a single line of code"
   ]
  },
  {
   "cell_type": "code",
   "execution_count": 4,
   "metadata": {},
   "outputs": [
    {
     "name": "stdout",
     "output_type": "stream",
     "text": [
      "Not enough Slater determinants to budget! Returning the whole thing.\n",
      "Bond dimensions IN PYBLOCK3:\n",
      "1|4|11|22|37|54|37|22|11|4|1\n",
      "TRANSLATION TO BLOCK2 SUCCESSFUL.\n",
      "ONE ROUND OF DMRG SUCCESSFUL.\n",
      "Maximum bond dimension of the block2 MPS =  74\n",
      "Norm of the transformed block2 MPS = 0.9999999999999997\n",
      "Overlap between the converted and original wavefunctions is 1.0000.\n"
     ]
    }
   ],
   "source": [
    "from overlapper.converter import sos_to_mps_block2\n",
    "from overlapper.utils.wf_utils import wf_budget\n",
    "\n",
    "## number of dets implemented \n",
    "n_dets = 1000\n",
    "final_bond_dim = 1000\n",
    "wf_cisd = wf_budget(wf_cisd, n_dets)\n",
    "\n",
    "# execute the conversion\n",
    "mps_cisd = sos_to_mps_block2(hf, wf_cisd, final_bond_dim)"
   ]
  },
  {
   "cell_type": "markdown",
   "metadata": {},
   "source": [
    "As the built-in verification check demonstrates by calculating the overlap between the input and converted wavefunctions, the entire CISD wavefunction was perfectly converted into the MPS form. The converted wavefunction can now be used together with Overlapper methods to calculate moments or the energy distribution of the associated state."
   ]
  },
  {
   "cell_type": "markdown",
   "metadata": {},
   "source": [
    "While the example above is for a relatively small molecule, the converter functionality is well-tested and broadly applicable even for large molecules, and in cases of non-zero spin."
   ]
  }
 ],
 "metadata": {
  "kernelspec": {
   "display_name": "Python 3 (ipykernel)",
   "language": "python",
   "name": "python3"
  },
  "language_info": {
   "codemirror_mode": {
    "name": "ipython",
    "version": 3
   },
   "file_extension": ".py",
   "mimetype": "text/x-python",
   "name": "python",
   "nbconvert_exporter": "python",
   "pygments_lexer": "ipython3",
   "version": "3.10.8"
  },
  "vscode": {
   "interpreter": {
    "hash": "e18157d04d01b0627e6b98dd8948088a4fbbd5a19ed6ab1b96b68ba1d7f30081"
   }
  }
 },
 "nbformat": 4,
 "nbformat_minor": 2
}
