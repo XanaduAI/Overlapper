{
 "cells": [
  {
   "cell_type": "markdown",
   "metadata": {},
   "source": [
    "# Easily generate initial states with Overlapper: PySCF methods"
   ]
  },
  {
   "cell_type": "markdown",
   "metadata": {},
   "source": [
    "This notebook demonstrates how to use Overlapper to easily execute computational chemistry methods implemented in PySCF, and convert their output to generate initial states for quantum algorithms. "
   ]
  },
  {
   "cell_type": "markdown",
   "metadata": {},
   "source": [
    "## **Wavefunction format in Overlapper**"
   ]
  },
  {
   "cell_type": "markdown",
   "metadata": {},
   "source": [
    "The states will be returned in the sum of Slater determinants (SOS) format, \n",
    "\n",
    "$$|\\psi\\rangle = \\sum_{i=1}^D c_i |S_i\\rangle,$$\n",
    "\n",
    "where $c_i$ are normalized coefficients and $|S_i\\rangle$'s are Slater determinants with a given configuration of electrons. "
   ]
  },
  {
   "cell_type": "markdown",
   "metadata": {},
   "source": [
    "Specifically, the final wavefunction will be a Python dictionary object, with each dictionary entry corresponding to a Slater determinant. The keys of the dictionary `(int_a, int_b)` are tuples of integers whose binary representations (when reversed) give the Fock occupation vector of the alpha and beta electrons of the Slater determinant; and the values of the dictionary are their corresponding normalized coefficients $c_i$. \n",
    "\n",
    "For example, in a molecule with 4 electrons and 4 spatial orbitals, one determinant we could write in Fock representation is $|\\alpha\\alpha\\beta\\beta\\rangle$: the configuration of alpha (spin-up) electrons is $|1100\\rangle$ and that of beta (spin-down) is $|0011\\rangle$. In our dictionary, this determinant would have the form `{(3,12): 1.}`, because `bin(3) = (00)11` and reversed is `1100`; and `bin(12)=1100` and reversed is `0011`.\n",
    "\n",
    "While this format may seem cryptic, it is one of the most data-savvy ways of storing the determinant information -- especially when collected in a sparse way through the dictionary object."
   ]
  },
  {
   "cell_type": "markdown",
   "metadata": {},
   "source": [
    "## **Use Overlapper to run quantum chemistry calculations in PySCF**"
   ]
  },
  {
   "cell_type": "markdown",
   "metadata": {},
   "source": [
    "To simplify the process of creating initial states from diverse outputs, Overlapper implements wrappers around a wide variety of quantum chemistry methods. This notebook discusses PySCF-based methods -- for density-matrix renormalization group (DMRG) and semistochastic heat-bath configuration interaction (SHCI) see the following notebooks. \n",
    "\n",
    "All these incredibly diverse methods have varying argument requirements and have widely varying outputs -- from matrix-product matrices of DMRG to excitation amplitudes in CCSD, from the truncated space of complete active space configuration interaction (CASCI) to the direct determinant form of SHCI. Overlapper allows the user to call these methods in a unified way, and standardises the return types.\n",
    "\n",
    "In particular, Overlapper implements a series of methods `do_xxx`, where `xxx` is a name of a method like `cisd` or `dmrg``. All these methods take a PySCF Hartree-Fock object as input plus whatever is needed to setup the solver, and all return four items: the solver object (or something to be converted into a wavefunction), list of energies, list of $\\langle S^2 \\rangle$ expectation values, and list of $\\langle S_z \\rangle$ expectation values."
   ]
  },
  {
   "cell_type": "markdown",
   "metadata": {},
   "source": [
    "### Configuration interaction / coupled cluster with singles and doubles"
   ]
  },
  {
   "cell_type": "markdown",
   "metadata": {},
   "source": [
    "Start by creating a `Molecule` in PySCF"
   ]
  },
  {
   "cell_type": "code",
   "execution_count": 1,
   "metadata": {},
   "outputs": [],
   "source": [
    "from pyscf import gto\n",
    "mol = gto.M(atom=[[\"Be\", (0,0,0)], [\"Be\", (1.1,0,0)]], basis='sto3g', spin=0)"
   ]
  },
  {
   "cell_type": "markdown",
   "metadata": {},
   "source": [
    "#### _Execute wavefunction-based methods_"
   ]
  },
  {
   "cell_type": "markdown",
   "metadata": {},
   "source": [
    "Next we use Overlapper to execute a Hartree-Fock calculation on the molecule, to obtain molecular orbitals for all post-Hartree-Fock methods below. The `do_hf` method is the only method to take the `Molecule` object: all post-HF methods take the Hartree-Fock solver object as input."
   ]
  },
  {
   "cell_type": "code",
   "execution_count": 2,
   "metadata": {},
   "outputs": [
    {
     "name": "stderr",
     "output_type": "stream",
     "text": [
      "/home/chiffa/miniconda3/envs/overlapper_v0.0.1/lib/python3.9/site-packages/pyscf/dft/libxc.py:772: UserWarning: Since PySCF-2.3, B3LYP (and B3P86) are changed to the VWN-RPA variant, the same to the B3LYP functional in Gaussian and ORCA (issue 1480). To restore the VWN5 definition, you can put the setting \"B3LYP_WITH_VWN5 = True\" in pyscf_conf.py\n",
      "  warnings.warn('Since PySCF-2.3, B3LYP (and B3P86) are changed to the VWN-RPA variant, '\n"
     ]
    },
    {
     "name": "stdout",
     "output_type": "stream",
     "text": [
      "HF wavefunction: \n",
      " {(15, 15): 1.0}\n",
      "\n",
      "RHF energy: -28.336\n",
      "\n",
      "RHF S^2 and Sz: 0.000, 0.000\n"
     ]
    }
   ],
   "source": [
    "from overlapper.state import do_hf, hf_state\n",
    "hftype = \"rhf\"\n",
    "\n",
    "# run an HF calculation\n",
    "hf, hf_e, hf_ss, hf_sz = do_hf(mol, hftype)\n",
    "wf_hf = hf_state(hf)\n",
    "print(f\"HF wavefunction: \\n {wf_hf}\")\n",
    "print(f\"\\nRHF energy: {hf_e[0]:.3f}\")\n",
    "print(f\"\\nRHF S^2 and Sz: {hf_ss[0]:.3f}, {hf_sz[0]:.3f}\")"
   ]
  },
  {
   "cell_type": "markdown",
   "metadata": {},
   "source": [
    "As expected, for a system with 8 electrons, 10 orbitals and zero spin, the Hartree-Fock state is `bin(15)[::-1] = 1111(000000)`. "
   ]
  },
  {
   "cell_type": "code",
   "execution_count": 3,
   "metadata": {},
   "outputs": [
    {
     "name": "stdout",
     "output_type": "stream",
     "text": [
      "CISD wavefunction: \n",
      " {(15, 15): 0.9062595163314698, (27, 27): -0.2916786005034067, (23, 23): 0.20557054828542573, (39, 39): -0.11406923668743202}\n",
      "\n",
      "CISD energy: -28.399\n",
      "\n",
      "rCISD spins: 0.000, 0.000\n"
     ]
    }
   ],
   "source": [
    "from overlapper.state import do_cisd, cisd_state\n",
    "# defines tolerance for wavefunction reconstruction\n",
    "TOL = 1e-1 \n",
    "\n",
    "# run a CISD calculation\n",
    "mycisd, mycisd_e, mycisd_ss, mycisd_sz = do_cisd(hf)\n",
    "wf_cisd = cisd_state(mycisd, tol=TOL)\n",
    "print(f\"CISD wavefunction: \\n {wf_cisd}\")\n",
    "print(f\"\\nCISD energy: {mycisd_e[0]:.3f}\")\n",
    "print(f\"\\n{hftype[0]}CISD spins: {mycisd_ss[0]:.3f}, {mycisd_sz[0]:.3f}\")"
   ]
  },
  {
   "cell_type": "markdown",
   "metadata": {},
   "source": [
    "Notice that the energy of the CISD method is below the HF energy, and that its wavefunction now acquires further determinants in addition to the HF one.\n",
    "\n",
    "In the same way, we can get a CCSD wavefunction"
   ]
  },
  {
   "cell_type": "code",
   "execution_count": 4,
   "metadata": {},
   "outputs": [
    {
     "name": "stdout",
     "output_type": "stream",
     "text": [
      "CCSD wavefunction: \n",
      " {(15, 15): 0.9151186172633302, (27, 27): -0.28600533396288225, (23, 23): 0.1544551750027599, (39, 39): -0.12370918425574487}\n",
      "\n",
      "rCCSD energy: -28.401\n",
      "\n",
      "rCCSD spins: 0.000, 0.000\n"
     ]
    }
   ],
   "source": [
    "from overlapper.state import do_ccsd, ccsd_state\n",
    "# defines tolerance for wavefunction reconstruction\n",
    "TOL = 1e-1 \n",
    "\n",
    "# run a CCSD calculation\n",
    "myccsd, myccsd_e, myccsd_ss, myccsd_sz = do_ccsd(hf)\n",
    "wf_ccsd = ccsd_state(myccsd, tol=TOL)\n",
    "print(f\"CCSD wavefunction: \\n {wf_ccsd}\")\n",
    "print(f\"\\n{hftype[0]}CCSD energy: {myccsd_e[0]:.3f}\")\n",
    "print(f\"\\n{hftype[0]}CCSD spins: {myccsd_ss[0]:.3f}, {myccsd_sz[0]:.3f}\")"
   ]
  },
  {
   "cell_type": "markdown",
   "metadata": {},
   "source": [
    "#### _Compute wavefunction overlap_"
   ]
  },
  {
   "cell_type": "markdown",
   "metadata": {},
   "source": [
    "We can quantify how different any two wavefunctions are by computing their overlap. In Overlapper, this only takes one line of code."
   ]
  },
  {
   "cell_type": "code",
   "execution_count": 5,
   "metadata": {},
   "outputs": [
    {
     "name": "stdout",
     "output_type": "stream",
     "text": [
      "CCSD to CISD overlap: 0.959\n"
     ]
    }
   ],
   "source": [
    "from overlapper.utils.wf_utils import wf_overlap\n",
    "ccsd_to_cisd_ovlp = wf_overlap(wf_ccsd, wf_cisd)\n",
    "print(f\"CCSD to CISD overlap: {ccsd_to_cisd_ovlp:.3f}\")"
   ]
  },
  {
   "cell_type": "markdown",
   "metadata": {},
   "source": [
    "In this case, CCSD and CISD wavefunctions are very similar to each other, with slight differences coming from the differences in the two ansatze."
   ]
  },
  {
   "cell_type": "markdown",
   "metadata": {},
   "source": [
    "### Complete active space configuration interaction (CASCI)"
   ]
  },
  {
   "cell_type": "markdown",
   "metadata": {},
   "source": [
    "#### _Full space_"
   ]
  },
  {
   "cell_type": "markdown",
   "metadata": {},
   "source": [
    "The molecule $\\text{Be}_2$ we have chosen above is small enough that we can run CASCI in the entire orbitals space, without truncation: in that case it amounts to an exact, full-CI solution"
   ]
  },
  {
   "cell_type": "code",
   "execution_count": 6,
   "metadata": {},
   "outputs": [
    {
     "name": "stdout",
     "output_type": "stream",
     "text": [
      "{(15, 23): 0.685593813487851, (23, 15): 0.6856411620092165}\n",
      "\n",
      "CASCI energy: -28.396\n",
      "\n",
      "CASCI spins: 0.000, 0.000\n"
     ]
    }
   ],
   "source": [
    "from overlapper.state import do_casci, casci_state\n",
    "ncas, nelecas = 10, (4,4)\n",
    "mycasci, mycasci_e, mycasci_ss, mycasci_sz = do_casci(hf, ncas, nelecas)\n",
    "wf_casci = casci_state(mycasci, tol=TOL)\n",
    "print(wf_casci)\n",
    "print(f\"\\nCASCI energy: {mycasci_e[0]:.3f}\")\n",
    "print(f\"\\nCASCI spins: {mycasci_ss[0]:.3f}, {mycasci_sz[0]:.3f}\")"
   ]
  },
  {
   "cell_type": "markdown",
   "metadata": {},
   "source": [
    "Notice that the solution we get has higher energy than the CISD and CCSD ones we got before! This is because of the particular implementation of CASCI in PySCF: sometimes it is necessary to solve for the few lowest-energy states to get the right ground-state. "
   ]
  },
  {
   "cell_type": "markdown",
   "metadata": {},
   "source": [
    "#### _Excited state calculations_"
   ]
  },
  {
   "cell_type": "markdown",
   "metadata": {},
   "source": [
    "Luckily, this is as easy in Overlapper as passing `nroots = X` to the `do_casci()` method, with `X` the desired number of  states. Excited state calculations are implemented for all methods except CCSD, whose implementation in PySCF does not return a wavefunction for the excited states, but only the energy.\n",
    "\n",
    "Re-running, we see that we get a state the lowest energy, as expected"
   ]
  },
  {
   "cell_type": "code",
   "execution_count": 7,
   "metadata": {},
   "outputs": [
    {
     "name": "stdout",
     "output_type": "stream",
     "text": [
      "{(15, 15): -0.6340383194485049, (23, 23): -0.6340383194485122, (27, 27): 0.3517676822888245, (39, 39): 0.17026384038385872}\n",
      "\n",
      "CASCI energy: -28.408\n",
      "\n",
      "CASCI spins: 0.000, 0.000\n"
     ]
    }
   ],
   "source": [
    "from overlapper.state import do_casci, casci_state\n",
    "ncas, nelecas = 10, (4,4)\n",
    "mycasci, mycasci_e, mycasci_ss, mycasci_sz = do_casci(hf, ncas, nelecas, nroots=3)\n",
    "wf_casci = casci_state(mycasci, tol=TOL)\n",
    "print(wf_casci)\n",
    "print(f\"\\nCASCI energy: {mycasci_e[0]:.3f}\")\n",
    "print(f\"\\nCASCI spins: {mycasci_ss[0]:.3f}, {mycasci_sz[0]:.3f}\")"
   ]
  },
  {
   "cell_type": "markdown",
   "metadata": {},
   "source": [
    "#### _Extract wavefunctions for excited states_"
   ]
  },
  {
   "cell_type": "markdown",
   "metadata": {},
   "source": [
    "We can compare CISD and CCSD to the exact solution by extracting the ground-state wavefunction from our CASCI run.\n",
    "\n",
    "When we do a calculation with `nroots > 1`, it is ambiguous which state we want to target for wavefunction construction. To differentiate, we pass `state = X` to the `casci_state()` method. This works for all wavefunction constructor methods. By default, `state=0` -- we always target the ground-state. \n",
    "\n",
    "Reconstructing the wavefunction and comparing the CISD and CCSD solutions to the exact reference, we can evaluate the quality of the initial state they present."
   ]
  },
  {
   "cell_type": "code",
   "execution_count": 8,
   "metadata": {},
   "outputs": [
    {
     "name": "stdout",
     "output_type": "stream",
     "text": [
      "HF to CASCI overlap: 0.634\n",
      "CISD to CASCI overlap: 0.827\n",
      "CCSD to CASCI overlap: 0.800\n"
     ]
    }
   ],
   "source": [
    "hf_to_casci_ovlp = wf_overlap(wf_hf, wf_casci)\n",
    "cisd_to_casci_ovlp = wf_overlap(wf_cisd, wf_casci)\n",
    "ccsd_to_casci_ovlp = wf_overlap(wf_ccsd, wf_casci)\n",
    "print(f\"HF to CASCI overlap: {hf_to_casci_ovlp:.3f}\")\n",
    "print(f\"CISD to CASCI overlap: {cisd_to_casci_ovlp:.3f}\")\n",
    "print(f\"CCSD to CASCI overlap: {ccsd_to_casci_ovlp:.3f}\")"
   ]
  },
  {
   "cell_type": "markdown",
   "metadata": {},
   "source": [
    "In this case, it is clear that the CCSD wavefunction is the best initial state out of the three."
   ]
  },
  {
   "cell_type": "markdown",
   "metadata": {},
   "source": [
    "Another analysis tool Overlapper provides is a comparison of the subspaces spanned by the determinants of each wavefunction. It can evaluate how many unique determinants appear in one wavefunction that do not appear in the other one."
   ]
  },
  {
   "cell_type": "code",
   "execution_count": 9,
   "metadata": {},
   "outputs": [
    {
     "name": "stdout",
     "output_type": "stream",
     "text": [
      "WF 1 is 0% unique\n",
      "WF 2 is 0% unique\n"
     ]
    }
   ],
   "source": [
    "# check how many determinants from wf 1 are NOT in wf 2, and vice versa\n",
    "# as a percentage of all determinants present\n",
    "from overlapper.utils.wf_utils import compare_subspaces\n",
    "num1, num2 = compare_subspaces(wf_cisd, wf_ccsd, tol=TOL)\n",
    "print(f\"WF 1 is {num1*100:.0f}% unique\")\n",
    "print(f\"WF 2 is {num2*100:.0f}% unique\")"
   ]
  },
  {
   "cell_type": "markdown",
   "metadata": {},
   "source": [
    "This result tells us that the wavefunctions are operating in the same subspace of determinants, and the only reason the are not identical is because of the coefficients on the determinants."
   ]
  },
  {
   "cell_type": "markdown",
   "metadata": {},
   "source": [
    "We could also check how much overlap there is between the first excited state from CISD and the first excited state we obtain from our full-space CASCI calculation."
   ]
  },
  {
   "cell_type": "code",
   "execution_count": 10,
   "metadata": {},
   "outputs": [
    {
     "name": "stdout",
     "output_type": "stream",
     "text": [
      "CISD to CASCI overlap: 0.000\n"
     ]
    }
   ],
   "source": [
    "wf_casci1ex = casci_state(mycasci, state=1, tol=TOL)\n",
    "mycisd, mycisd_e, mycisd_ss, mycisd_sz = do_cisd(hf, nroots=3)\n",
    "wf_cisd1ex = cisd_state(mycisd, state=1, tol=TOL)\n",
    "\n",
    "cisd1ex_to_casci1ex_ovlp = wf_overlap(wf_cisd1ex, wf_casci1ex)\n",
    "print(f\"CISD to CASCI overlap: {cisd1ex_to_casci1ex_ovlp:.3f}\")"
   ]
  },
  {
   "cell_type": "markdown",
   "metadata": {},
   "source": [
    "Wavefunction-based methods that are fairly accurate for the ground state can be quite inaccurate for excited states."
   ]
  },
  {
   "cell_type": "markdown",
   "metadata": {},
   "source": [
    "#### _Active space_"
   ]
  },
  {
   "cell_type": "markdown",
   "metadata": {},
   "source": [
    "With Overlapper we can also freely perform active space calculations, by restricting the number of active electrons and orbitals used with CASCI. The process of obtaining the wavefunction automatically determines the frozen electrons and orbitals and adds them back, ensuring that CASCI solutions in a smaller space remain comparable to wavefunctions from e.g. CISD / CCSD done in a larger space."
   ]
  },
  {
   "cell_type": "code",
   "execution_count": 11,
   "metadata": {},
   "outputs": [
    {
     "name": "stdout",
     "output_type": "stream",
     "text": [
      "{(15, 15): 0.6339564618627093, (23, 23): 0.6339564618626229, (27, 27): -0.3523458144163838, (39, 39): -0.16982843634070027}\n",
      "\n",
      "CASCI(4e,8o) energy: -28.407\n",
      "\n",
      "CASCI(4e,8o) spins: 0.000, 0.000\n"
     ]
    }
   ],
   "source": [
    "ncas, nelecas = 8, (2,2)\n",
    "mycasci, mycasci_e, mycasci_ss, mycasci_sz = do_casci(hf, ncas, nelecas, nroots=3)\n",
    "wf_casci = casci_state(mycasci, tol=TOL)\n",
    "print(wf_casci)\n",
    "print(f\"\\nCASCI(4e,8o) energy: {mycasci_e[0]:.3f}\")\n",
    "print(f\"\\nCASCI(4e,8o) spins: {mycasci_ss[0]:.3f}, {mycasci_sz[0]:.3f}\")"
   ]
  },
  {
   "cell_type": "markdown",
   "metadata": {},
   "source": [
    "Notice that the determinants in the final wavefunction have the full number of electrons, even though CASCI was carried out in a smaller active space. As expected, the energy and the wavefunction obtained in a smalelr active space is worse relative to the exact solution."
   ]
  },
  {
   "cell_type": "markdown",
   "metadata": {},
   "source": [
    "### Multireference perturbation theory (MRPT)"
   ]
  },
  {
   "cell_type": "markdown",
   "metadata": {},
   "source": [
    "Multireference perturbation theory works on top of a CASCI solution to correct for the frozen orbitals missing from the active space. It works by modifying in-place the wavefunction coefficients stored in a CASCI solver. As most perturbation theory approaches, it only mildly changes the wavefunction."
   ]
  },
  {
   "cell_type": "code",
   "execution_count": 12,
   "metadata": {},
   "outputs": [
    {
     "name": "stdout",
     "output_type": "stream",
     "text": [
      "{(15, 15): -0.6340664543115094, (23, 23): -0.6340664543087327, (27, 27): 0.3518136434650603, (39, 39): 0.17188866207027292}\n",
      "\\MRPT energy: -28.408\n",
      "\n",
      "MRPT spins: 0.000, 0.000\n"
     ]
    }
   ],
   "source": [
    "from overlapper.state import do_mrpt, mrpt_state\n",
    "ncas, nelecas = 10, (4,4)\n",
    "mycasci, mycasci_e, mycasci_ss, mycasci_sz = do_casci(hf, ncas, nelecas, nroots=3)\n",
    "mymrpt, mymrpt_e, mymrpt_ss, mymrpt_sz = do_mrpt(mycasci, nroots=3)\n",
    "wf_mrpt = mrpt_state(mymrpt, tol=TOL)\n",
    "print(wf_mrpt)\n",
    "print(f\"\\MRPT energy: {mycasci_e[0]:.3f}\")\n",
    "print(f\"\\nMRPT spins: {mymrpt_ss[0]:.3f}, {mymrpt_sz[0]:.3f}\")"
   ]
  }
 ],
 "metadata": {
  "kernelspec": {
   "display_name": "Python 3.9.18 ('overlapper_v0.0.1')",
   "language": "python",
   "name": "python3"
  },
  "language_info": {
   "codemirror_mode": {
    "name": "ipython",
    "version": 3
   },
   "file_extension": ".py",
   "mimetype": "text/x-python",
   "name": "python",
   "nbconvert_exporter": "python",
   "pygments_lexer": "ipython3",
   "version": "3.9.18"
  },
  "orig_nbformat": 4,
  "vscode": {
   "interpreter": {
    "hash": "e18157d04d01b0627e6b98dd8948088a4fbbd5a19ed6ab1b96b68ba1d7f30081"
   }
  }
 },
 "nbformat": 4,
 "nbformat_minor": 2
}
