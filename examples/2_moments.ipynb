{
 "cells": [
  {
   "cell_type": "markdown",
   "metadata": {},
   "source": [
    "# Hamiltonian moments of wavefunctions"
   ]
  },
  {
   "cell_type": "markdown",
   "metadata": {},
   "source": [
    "In order to employ the Gram-Charlier or Edgeworth method of approximating the energy distribution associated with the state $\\ket{\\psi}$, the moments of the Hamiltonian $H$ with respect to this distribution need to be computed. In Overlapper, we provide two approaches to computing these moments: directly by computing the matrix product of the Hamiltonian and the wavefunction as arrays, and computing the same product using DMRG. \n",
    "\n",
    "In this notebook, we showcase both approaches, and use the first (exact) method to benchmark the DMRG-based method in the case of a small molecule."
   ]
  },
  {
   "cell_type": "markdown",
   "metadata": {},
   "source": [
    "#### Create the system"
   ]
  },
  {
   "cell_type": "markdown",
   "metadata": {},
   "source": [
    "Start by creating a PySCF `Molecule` and running an RHF calculation on it"
   ]
  },
  {
   "cell_type": "code",
   "execution_count": 1,
   "metadata": {},
   "outputs": [
    {
     "name": "stderr",
     "output_type": "stream",
     "text": [
      "/home/chiffa/miniconda3/envs/overlapper_v0.0.1/lib/python3.9/site-packages/pyscf/dft/libxc.py:772: UserWarning: Since PySCF-2.3, B3LYP (and B3P86) are changed to the VWN-RPA variant, the same to the B3LYP functional in Gaussian and ORCA (issue 1480). To restore the VWN5 definition, you can put the setting \"B3LYP_WITH_VWN5 = True\" in pyscf_conf.py\n",
      "  warnings.warn('Since PySCF-2.3, B3LYP (and B3P86) are changed to the VWN-RPA variant, '\n"
     ]
    },
    {
     "name": "stdout",
     "output_type": "stream",
     "text": [
      "HF wavefunction: \n",
      " {(7, 7): 1.0}\n",
      "\n",
      "RHF energy: -3.156\n",
      "\n",
      "RHF S^2 and Sz: 0.000, 0.000\n"
     ]
    }
   ],
   "source": [
    "import numpy as np\n",
    "from pyscf import gto\n",
    "\n",
    "from overlapper.state import do_hf, hf_state\n",
    "\n",
    "############### define a system of interest ##############\n",
    "hftype = \"rhf\" \n",
    "R = 1.\n",
    "N = 6\n",
    "mol = gto.M(atom=[['H', (0, 0, i * R)] for i in range(N)], basis='sto6g')\n",
    "\n",
    "# run  HF calculation\n",
    "rhf, rhf_e, rhf_ss, rhf_sz = do_hf(mol, hftype)\n",
    "wf_rhf = hf_state(rhf)\n",
    "print(f\"HF wavefunction: \\n {wf_rhf}\")\n",
    "print(f\"\\nRHF energy: {rhf_e[0]:.3f}\")\n",
    "print(f\"\\nRHF S^2 and Sz: {rhf_ss[0]:.3f}, {rhf_sz[0]:.3f}\")"
   ]
  },
  {
   "cell_type": "markdown",
   "metadata": {},
   "source": [
    "#### Moments: exact calculation"
   ]
  },
  {
   "cell_type": "markdown",
   "metadata": {},
   "source": [
    "In principle, given a state $|\\psi\\rangle$ expressed as a vector ina  finite-dimensional Hilbert space, it is posible to compute any moment $\\langle \\psi | H^n | \\psi \\rangle$ by simply executing a series of matrix multiplications. This is exactly what the direct method in Overlapper implements, exploiting PySCF's data structures to accomplish the task."
   ]
  },
  {
   "cell_type": "code",
   "execution_count": 2,
   "metadata": {},
   "outputs": [
    {
     "name": "stdout",
     "output_type": "stream",
     "text": [
      "[-7.75984266e+00  6.03377390e+01 -4.69939671e+02  3.66507164e+03\n",
      " -2.86159249e+04  2.23633317e+05]\n"
     ]
    }
   ],
   "source": [
    "from overlapper.moments import rfci_moments\n",
    "kmax = 6\n",
    "rhf_moments = rfci_moments(rhf, kmax, wf_rhf)\n",
    "print(rhf_moments)"
   ]
  },
  {
   "cell_type": "markdown",
   "metadata": {},
   "source": [
    "The calculation of moments for unrestricted Hartree-Fock calculations may be done similarly using the `ufci_moments` method. This could be required when the spin of the molecule is not zero."
   ]
  },
  {
   "cell_type": "code",
   "execution_count": 3,
   "metadata": {},
   "outputs": [
    {
     "name": "stdout",
     "output_type": "stream",
     "text": [
      "[-7.62285303e+00  5.81815416e+01 -4.44529530e+02  3.39925428e+03\n",
      " -2.60118466e+04  1.99164983e+05]\n"
     ]
    }
   ],
   "source": [
    "from overlapper.moments import ufci_moments\n",
    "mol_spin2 = gto.M(atom=[['H', (0, 0, i * R)] for i in range(N)], basis='sto6g', spin=2)\n",
    "uhf, uhf_e, uhf_ss, uhf_sz = do_hf(mol_spin2, \"uhf\")\n",
    "wf_uhf = hf_state(uhf)\n",
    "uhf_moments = ufci_moments(uhf, kmax, wf_uhf)\n",
    "print(uhf_moments)"
   ]
  },
  {
   "cell_type": "markdown",
   "metadata": {},
   "source": [
    "The limitation of this matrix-multiplication-based approach is that only very small systems can be handled in this way, with only at most 8-10 spatial orbitals."
   ]
  },
  {
   "cell_type": "markdown",
   "metadata": {},
   "source": [
    "#### Moments: via DMRG"
   ]
  },
  {
   "cell_type": "markdown",
   "metadata": {},
   "source": [
    "Alternatively, the same matrix multiplication can be carried out using the language of matrix-product states and matrix-product operators (MPS and MPO). While the results are not exact, varying in accuracy depending on the value of the bond dimension used in the calculation, this method allows calculation of approximate moments for systems with more than 50-70 spatial orbitals."
   ]
  },
  {
   "cell_type": "markdown",
   "metadata": {},
   "source": [
    "As mentioned in notebook 2, the `do_dmrg()` method is special in Overlapper, because DMRG structures are exploited beyond just obtaining an initial state -- for example, for computing moments. \n",
    "\n",
    "For this purpose, passing `return_objects = True` returns, instead of the usual initial state, internal runtime objects such as `DMRGDriver`, `mps` of the state and `mpo` of the Hamiltonian. These objects can then be used to calculate moments -- and later on, to execute the resolvent method of approximating the energy distribution.\n",
    "\n",
    "To make the moments from both methods comparable, a constant energy shift countebalancing the nuclear energy needs to be applied to the DMRG calculation -- accompished below through the `eshift` variable."
   ]
  },
  {
   "cell_type": "code",
   "execution_count": 4,
   "metadata": {},
   "outputs": [],
   "source": [
    "from overlapper.state import do_dmrg, dmrg_state\n",
    "bond_dims = [1]\n",
    "n_sweeps = [20]\n",
    "noises = [1e-6]\n",
    "thrds = [1e-5]\n",
    "sch = [bond_dims, n_sweeps, noises, thrds]\n",
    "ncas, nelecas = 6, (3,3)\n",
    "eshift = -mol.energy_nuc()\n",
    "mpo, mps, driver = do_dmrg(rhf, ncas, nelecas, sch, eshift=eshift, return_objects=True)"
   ]
  },
  {
   "cell_type": "markdown",
   "metadata": {},
   "source": [
    "In order to use DMRG to evaluate the moments of a given state, the state must be supplied in MPS format. In this case, since we are after the Hartree-Fock state, we can easily generate this state by running a DMRG calculation at bond dimension 1. If we were after a different state, we could instead employ the converter functionality (example 7) and convert any state in the Overlapper sparse dictionary (SOS) format into the MPS format this way."
   ]
  },
  {
   "cell_type": "markdown",
   "metadata": {},
   "source": [
    "We can easily check that we indeed got the Hartree-Fock state, with a short extra step from Block2's `driver` functionality"
   ]
  },
  {
   "cell_type": "code",
   "execution_count": 5,
   "metadata": {},
   "outputs": [
    {
     "name": "stdout",
     "output_type": "stream",
     "text": [
      "{(7, 7): -1.0}\n"
     ]
    }
   ],
   "source": [
    "wf = driver.get_csf_coefficients(mps, cutoff=1e-3, iprint=0)\n",
    "wf_dmrg = dmrg_state([wf], tol=1e-3)\n",
    "print(wf_dmrg)"
   ]
  },
  {
   "cell_type": "markdown",
   "metadata": {},
   "source": [
    "With the state of interest, the Hamiltonian MPO and the driver in hand, the moments can now be calculated. \n",
    "\n",
    "To compute a moment $\\langle \\psi | H^n | \\psi \\rangle$, the driver's `multiply()` method is first used to calculate $| \\psi_1 \\rangle = H| \\psi \\rangle$, then the first moment is obtained by calculating the expectation value `driver.expectation(ket1, mpo, mps)`. Each subsequent moment is obtained from the previous one recursively by continually applying H to the state: because of this, the bond dimension of the MPS storing each subsequent ket (the \"bra\") needs to be increased as the calculation proceeds, to ensure improved accuracy."
   ]
  },
  {
   "cell_type": "code",
   "execution_count": 6,
   "metadata": {},
   "outputs": [
    {
     "name": "stdout",
     "output_type": "stream",
     "text": [
      "[-7.75984266e+00  6.02722412e+01 -4.68476222e+02  3.64325086e+03\n",
      " -2.83444824e+04  2.20862989e+05]\n"
     ]
    }
   ],
   "source": [
    "from overlapper.moments import dmrg_moments\n",
    "bra_bond_dims = [50 * ii for ii in range(1, kmax+1)]\n",
    "hf_moments = dmrg_moments(driver, mps, mpo, bra_bond_dims, kmax, verbose=0)\n",
    "print(hf_moments)"
   ]
  },
  {
   "cell_type": "code",
   "execution_count": 7,
   "metadata": {},
   "outputs": [
    {
     "name": "stdout",
     "output_type": "stream",
     "text": [
      "[-7.75984266e+00  6.03377390e+01 -4.69939671e+02  3.66507164e+03\n",
      " -2.86159249e+04  2.23633317e+05]\n"
     ]
    }
   ],
   "source": [
    "print(rhf_moments)"
   ]
  },
  {
   "cell_type": "markdown",
   "metadata": {},
   "source": [
    "Very good agreement is seen between computing the moments using both methods."
   ]
  }
 ],
 "metadata": {
  "kernelspec": {
   "display_name": "Python 3.9.18 ('overlapper_v0.0.1')",
   "language": "python",
   "name": "python3"
  },
  "language_info": {
   "codemirror_mode": {
    "name": "ipython",
    "version": 3
   },
   "file_extension": ".py",
   "mimetype": "text/x-python",
   "name": "python",
   "nbconvert_exporter": "python",
   "pygments_lexer": "ipython3",
   "version": "3.9.18"
  },
  "orig_nbformat": 4,
  "vscode": {
   "interpreter": {
    "hash": "e18157d04d01b0627e6b98dd8948088a4fbbd5a19ed6ab1b96b68ba1d7f30081"
   }
  }
 },
 "nbformat": 4,
 "nbformat_minor": 2
}
